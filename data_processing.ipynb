{
 "cells": [
  {
   "cell_type": "code",
   "execution_count": null,
   "metadata": {},
   "outputs": [],
   "source": [
    "import os\n",
    "import sys\n",
    "import matplotlib.pyplot as plt\n",
    "import numpy as np\n",
    "import pydicom as di\n",
    "import pandas as pd\n",
    "import tensorflow as tf\n",
    "from PIL import Image\n",
    "import pydicom as pydcm\n",
    "import cv2"
   ]
  },
  {
   "cell_type": "code",
   "execution_count": null,
   "metadata": {},
   "outputs": [],
   "source": [
    "# Loading the CSV file and cleaning the data\n",
    "train_csv = pd.read_csv(\"./train.csv\")\n",
    "train_csv.head(10)"
   ]
  },
  {
   "cell_type": "code",
   "execution_count": null,
   "metadata": {},
   "outputs": [],
   "source": [
    "#Exploring data\n",
    "print(f\"<-- Difficult negative case --> \\n {train_csv['difficult_negative_case'].value_counts()}\\n\")\n",
    "\n",
    "print(f\"<-- Cancer --> \\n {train_csv['cancer'].value_counts()}\\n\")\n",
    "\n",
    "# The data is very skewed."
   ]
  },
  {
   "cell_type": "code",
   "execution_count": null,
   "metadata": {},
   "outputs": [],
   "source": [
    "# Getting a csv of the files we have.\n",
    "patient_ids_on_hand = []\n",
    "#Getting the names of the folders at hand.\n",
    "for file in os.listdir(\"./images\"):\n",
    "    patient_ids_on_hand.append(int(file))\n",
    "len(patient_ids_on_hand)"
   ]
  },
  {
   "cell_type": "code",
   "execution_count": null,
   "metadata": {},
   "outputs": [],
   "source": [
    "# Creating a CSV of images on hand.\n",
    "csv_data_on_hand = pd.DataFrame(columns=train_csv.columns)\n",
    "\n",
    "for patient_id in patient_ids_on_hand:\n",
    "   csv_data_on_hand =  pd.concat([csv_data_on_hand, train_csv[train_csv['patient_id'] == patient_id]])\n"
   ]
  },
  {
   "cell_type": "code",
   "execution_count": null,
   "metadata": {},
   "outputs": [],
   "source": [
    "# Looking at distribution of postivie values.\n",
    "csv_data_on_hand[\"cancer\"].value_counts()"
   ]
  },
  {
   "cell_type": "code",
   "execution_count": null,
   "metadata": {},
   "outputs": [],
   "source": [
    "#Fucntion to convert dcm images to nparray of type uint16\n",
    "def dcm_to_numpy(patient_id, image_id):\n",
    "    path_to_images = \"./images/\"\n",
    "    path_to_images += str(patient_id) + \"/\" + str(image_id) + \".dcm\"\n",
    "    dcm_image = di.dcmread(path_to_images)\n",
    "    np_array = dcm_image.pixel_array\n",
    "    return np_array\n",
    "\n",
    "#function to save dcm image as png\n",
    "def save_dcm_as_png(path_to_dcm, png_save_path):\n",
    "    im = Image.fromarray(dcm_to_numpy(path_to_dcm)*128)\n",
    "    im.save(png_save_path)\n",
    "\n",
    "# takes df with info of a single patient and concats the corresponding images into one\n",
    "def image_concat(patient_df):\n",
    "    print(patient_id)\n",
    "    image_array = []\n",
    "    for image_id in patient_df[patient_df['laterality'] == 'L']['image_id']:\n",
    "        image_array.append(dcm_to_numpy(patient_id, image_id))\n",
    "    \n",
    "    row1 = np.concatenate((image_array[0], image_array[1]), axis = 1) # concat L images\n",
    "\n",
    "    for image_id in patient_df[patient_df['laterality'] == 'R']['image_id']:\n",
    "        image_array.append(dcm_to_numpy(patient_id, image_id))\n",
    "\n",
    "    row2 = np.concatenate((image_array[0], image_array[1]), axis = 1) # concat R images\n",
    "\n",
    "    final_image = np.concatenate((row1, row2), axis=0) # concat L and R images\n",
    "\n",
    "    # im = Image.fromarray(final_image)\n",
    "    # im = im.convert('RGB')\n",
    "    # im.save('./concat_images/{}.png'.format(patient_id), compress_level = 1)\n",
    "\n",
    "    cv2.imwrite('./concat_images/{}.png'.format(patient_id), final_image)\n",
    "\n",
    "    #####\n",
    "    # processing is very slow for some reason\n",
    "    #####"
   ]
  },
  {
   "cell_type": "code",
   "execution_count": null,
   "metadata": {},
   "outputs": [],
   "source": [
    "# iterate over each unique patient id\n",
    "for patient_id in csv_data_on_hand['patient_id'].unique():\n",
    "    current_patient = csv_data_on_hand[csv_data_on_hand['patient_id'] == patient_id]\n",
    "    image_concat(current_patient)"
   ]
  },
  {
   "cell_type": "code",
   "execution_count": null,
   "metadata": {},
   "outputs": [],
   "source": []
  }
 ],
 "metadata": {
  "kernelspec": {
   "display_name": "Python 3",
   "language": "python",
   "name": "python3"
  },
  "language_info": {
   "codemirror_mode": {
    "name": "ipython",
    "version": 3
   },
   "file_extension": ".py",
   "mimetype": "text/x-python",
   "name": "python",
   "nbconvert_exporter": "python",
   "pygments_lexer": "ipython3",
   "version": "3.8.6"
  },
  "orig_nbformat": 4,
  "vscode": {
   "interpreter": {
    "hash": "e2cde104f4d18245c788b079dac12b495c585d850f7488bacbf703b0b6afa06c"
   }
  }
 },
 "nbformat": 4,
 "nbformat_minor": 2
}
